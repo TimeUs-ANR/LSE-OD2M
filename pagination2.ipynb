{
 "cells": [
  {
   "cell_type": "code",
   "execution_count": 5,
   "metadata": {},
   "outputs": [],
   "source": [
    "pagenb = ['x','x','x','x',4, 5, 6,'x','x',9, 10, 11,'x',13,'x','x','x','x','x','x','x']"
   ]
  },
  {
   "cell_type": "code",
   "execution_count": 6,
   "metadata": {},
   "outputs": [],
   "source": [
    "def is_number(s):\n",
    "    \"\"\"...\"\"\"\n",
    "    try:\n",
    "        int(s)\n",
    "        return True\n",
    "    except ValueError:\n",
    "        return False"
   ]
  },
  {
   "cell_type": "code",
   "execution_count": 7,
   "metadata": {},
   "outputs": [],
   "source": [
    "def get_anchor(list_of_page_numbers, which_anchor):\n",
    "    \"\"\"...\"\"\"\n",
    "    is_nb = False\n",
    "    counter = 0\n",
    "    counter_true = 0\n",
    "    while counter != len(list_of_page_numbers) and is_nb is False:\n",
    "        is_nb = is_number(list_of_page_numbers[counter])\n",
    "        if is_nb is False:\n",
    "            counter += 1\n",
    "        else:\n",
    "            if counter_true == which_anchor:\n",
    "                first_nb_idx = counter\n",
    "                return first_nb_idx\n",
    "            else:\n",
    "                is_nb = False\n",
    "                counter += 1\n",
    "                counter_true += 1\n",
    "    return False"
   ]
  },
  {
   "cell_type": "code",
   "execution_count": 8,
   "metadata": {},
   "outputs": [],
   "source": [
    "def is_coherent(orig, new):\n",
    "    \"\"\"...\"\"\"\n",
    "    not_matching = 0\n",
    "    for i in range(len(new)):\n",
    "        if new[i] != orig[i]:\n",
    "            if orig[i] != \"x\":\n",
    "                not_matching += 1\n",
    "    if not_matching/len(new) > 0.1:  # placing a limit at 10% of difference\n",
    "        return False\n",
    "    else:\n",
    "        return True"
   ]
  },
  {
   "cell_type": "code",
   "execution_count": 10,
   "metadata": {},
   "outputs": [],
   "source": [
    "def build_new_pagination(anchor, list_of_page_numbers):\n",
    "    \"\"\"...\"\"\"\n",
    "    new_pagination = list_of_page_numbers[:]\n",
    "    starting_point = new_pagination[anchor]\n",
    "    # building page number before the anchor\n",
    "    anchor_left = anchor - 1\n",
    "    new_page_nb = starting_point -1\n",
    "    while anchor_left >= 0:\n",
    "        new_pagination[anchor_left] = new_page_nb\n",
    "        if new_page_nb > 0: # pages before 1 will all be numbered as 0 (out of range)\n",
    "            new_page_nb -= 1\n",
    "        anchor_left -= 1\n",
    "    # building page numbers after the anchor\n",
    "    anchor_right = anchor + 1\n",
    "    new_page_nb = starting_point +1\n",
    "    while anchor_right < len(list_of_page_numbers):\n",
    "        new_pagination[anchor_right] = new_page_nb\n",
    "        new_page_nb += 1\n",
    "        anchor_right += 1\n",
    "    return new_pagination"
   ]
  },
  {
   "cell_type": "code",
   "execution_count": 11,
   "metadata": {},
   "outputs": [
    {
     "ename": "TypeError",
     "evalue": "unsupported operand type(s) for -: 'str' and 'int'",
     "output_type": "error",
     "traceback": [
      "\u001b[0;31m---------------------------------------------------------------------------\u001b[0m",
      "\u001b[0;31mTypeError\u001b[0m                                 Traceback (most recent call last)",
      "\u001b[0;32m<ipython-input-11-c72e6a1e9cd0>\u001b[0m in \u001b[0;36m<module>\u001b[0;34m\u001b[0m\n\u001b[1;32m      6\u001b[0m     \u001b[0merror_margin\u001b[0m \u001b[0;34m=\u001b[0m \u001b[0;32mFalse\u001b[0m\u001b[0;34m\u001b[0m\u001b[0m\n\u001b[1;32m      7\u001b[0m     \u001b[0;32mwhile\u001b[0m \u001b[0merror_margin\u001b[0m \u001b[0;32mis\u001b[0m \u001b[0;32mFalse\u001b[0m \u001b[0;32mor\u001b[0m \u001b[0miterating\u001b[0m \u001b[0;34m<\u001b[0m \u001b[0;36m10\u001b[0m\u001b[0;34m:\u001b[0m\u001b[0;34m\u001b[0m\u001b[0m\n\u001b[0;32m----> 8\u001b[0;31m         \u001b[0mnew_pagination\u001b[0m \u001b[0;34m=\u001b[0m \u001b[0mbuild_new_pagination\u001b[0m\u001b[0;34m(\u001b[0m\u001b[0manchor\u001b[0m\u001b[0;34m,\u001b[0m \u001b[0morig_pagination\u001b[0m\u001b[0;34m)\u001b[0m\u001b[0;34m\u001b[0m\u001b[0m\n\u001b[0m\u001b[1;32m      9\u001b[0m         \u001b[0merror_margin\u001b[0m \u001b[0;34m=\u001b[0m \u001b[0mis_coherent\u001b[0m\u001b[0;34m(\u001b[0m\u001b[0morig_pagination\u001b[0m\u001b[0;34m,\u001b[0m \u001b[0mnew_pagination\u001b[0m\u001b[0;34m)\u001b[0m\u001b[0;34m\u001b[0m\u001b[0m\n\u001b[1;32m     10\u001b[0m         \u001b[0miterating\u001b[0m \u001b[0;34m+=\u001b[0m \u001b[0;36m1\u001b[0m\u001b[0;34m\u001b[0m\u001b[0m\n",
      "\u001b[0;32m<ipython-input-10-7aadde8c3508>\u001b[0m in \u001b[0;36mbuild_new_pagination\u001b[0;34m(anchor, list_of_page_numbers)\u001b[0m\n\u001b[1;32m      5\u001b[0m     \u001b[0;31m# building page number before the anchor\u001b[0m\u001b[0;34m\u001b[0m\u001b[0;34m\u001b[0m\u001b[0m\n\u001b[1;32m      6\u001b[0m     \u001b[0manchor_left\u001b[0m \u001b[0;34m=\u001b[0m \u001b[0manchor\u001b[0m \u001b[0;34m-\u001b[0m \u001b[0;36m1\u001b[0m\u001b[0;34m\u001b[0m\u001b[0m\n\u001b[0;32m----> 7\u001b[0;31m     \u001b[0mnew_page_nb\u001b[0m \u001b[0;34m=\u001b[0m \u001b[0mstarting_point\u001b[0m \u001b[0;34m-\u001b[0m\u001b[0;36m1\u001b[0m\u001b[0;34m\u001b[0m\u001b[0m\n\u001b[0m\u001b[1;32m      8\u001b[0m     \u001b[0;32mwhile\u001b[0m \u001b[0manchor_left\u001b[0m \u001b[0;34m>=\u001b[0m \u001b[0;36m0\u001b[0m\u001b[0;34m:\u001b[0m\u001b[0;34m\u001b[0m\u001b[0m\n\u001b[1;32m      9\u001b[0m         \u001b[0mnew_pagination\u001b[0m\u001b[0;34m[\u001b[0m\u001b[0manchor_left\u001b[0m\u001b[0;34m]\u001b[0m \u001b[0;34m=\u001b[0m \u001b[0mnew_page_nb\u001b[0m\u001b[0;34m\u001b[0m\u001b[0m\n",
      "\u001b[0;31mTypeError\u001b[0m: unsupported operand type(s) for -: 'str' and 'int'"
     ]
    }
   ],
   "source": [
    "orig_pagination = pagenb[:]\n",
    "\n",
    "iterating = 0\n",
    "anchor = get_anchor(pagenb, 0)  # ajouter une incrémentation pour recalculer un index tant que c'est pas bon\n",
    "if anchor:\n",
    "    error_margin = False\n",
    "    while error_margin is False or iterating < 10:\n",
    "        new_pagination = build_new_pagination(anchor, orig_pagination)\n",
    "        error_margin = is_coherent(orig_pagination, new_pagination)\n",
    "        iterating += 1\n",
    "        anchor = get_anchor(pagenb, iterating)\n",
    "else:\n",
    "    logging.warning(\"Could not calculate new pagination.\")"
   ]
  },
  {
   "cell_type": "code",
   "execution_count": null,
   "metadata": {},
   "outputs": [],
   "source": []
  }
 ],
 "metadata": {
  "kernelspec": {
   "display_name": "Python 3",
   "language": "python",
   "name": "python3"
  },
  "language_info": {
   "codemirror_mode": {
    "name": "ipython",
    "version": 3
   },
   "file_extension": ".py",
   "mimetype": "text/x-python",
   "name": "python",
   "nbconvert_exporter": "python",
   "pygments_lexer": "ipython3",
   "version": "3.5.2"
  }
 },
 "nbformat": 4,
 "nbformat_minor": 2
}
